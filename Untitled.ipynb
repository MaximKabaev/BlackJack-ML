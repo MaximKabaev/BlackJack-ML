{
 "cells": [
  {
   "cell_type": "code",
   "execution_count": 7,
   "id": "ad5c589d",
   "metadata": {},
   "outputs": [
    {
     "data": {
      "text/plain": [
       "array(['dealcard1', 'winloss', 'ply2cardsum'], dtype=object)"
      ]
     },
     "execution_count": 7,
     "metadata": {},
     "output_type": "execute_result"
    }
   ],
   "source": [
    "import pandas as pd\n",
    "from sklearn\n",
    "raw_bj_dataset = pd.read_csv('datasets/blkjckhands.csv')\n",
    "\n",
    "bj_dataset = raw_bj_dataset.drop(columns=[\"Unnamed: 0\", \"PlayerNo\", \"card1\", \"card2\", \"card3\", \"card4\", \"card5\", \"sumofcards\", \n",
    "                                   \"dealcard2\", \"dealcard3\", \"dealcard4\", \"dealcard5\",\n",
    "                                  \"sumofdeal\", \"blkjck\", \"plybustbeat\", \"dlbustbeat\", \"plwinamt\", \"dlwinamt\"])\n"
   ]
  },
  {
   "cell_type": "code",
   "execution_count": 8,
   "id": "5aedf734",
   "metadata": {},
   "outputs": [
    {
     "data": {
      "text/plain": [
       "0         Loss\n",
       "1          Win\n",
       "2         Loss\n",
       "3         Loss\n",
       "4         Loss\n",
       "          ... \n",
       "899995    Loss\n",
       "899996    Loss\n",
       "899997    Loss\n",
       "899998     Win\n",
       "899999    Loss\n",
       "Name: winloss, Length: 900000, dtype: object"
      ]
     },
     "execution_count": 8,
     "metadata": {},
     "output_type": "execute_result"
    }
   ],
   "source": [
    "X = bj_dataset.drop(columns=[\"winloss\"])\n",
    "y  = bj_dataset[\"winloss\"]\n",
    "\n"
   ]
  }
 ],
 "metadata": {
  "kernelspec": {
   "display_name": "Python 3 (ipykernel)",
   "language": "python",
   "name": "python3"
  },
  "language_info": {
   "codemirror_mode": {
    "name": "ipython",
    "version": 3
   },
   "file_extension": ".py",
   "mimetype": "text/x-python",
   "name": "python",
   "nbconvert_exporter": "python",
   "pygments_lexer": "ipython3",
   "version": "3.9.13"
  }
 },
 "nbformat": 4,
 "nbformat_minor": 5
}
