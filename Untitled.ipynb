{
 "cells": [
  {
   "cell_type": "code",
   "execution_count": 103,
   "id": "ad5c589d",
   "metadata": {},
   "outputs": [
    {
     "data": {
      "text/html": [
       "<div>\n",
       "<style scoped>\n",
       "    .dataframe tbody tr th:only-of-type {\n",
       "        vertical-align: middle;\n",
       "    }\n",
       "\n",
       "    .dataframe tbody tr th {\n",
       "        vertical-align: top;\n",
       "    }\n",
       "\n",
       "    .dataframe thead th {\n",
       "        text-align: right;\n",
       "    }\n",
       "</style>\n",
       "<table border=\"1\" class=\"dataframe\">\n",
       "  <thead>\n",
       "    <tr style=\"text-align: right;\">\n",
       "      <th></th>\n",
       "      <th>dealcard1</th>\n",
       "      <th>ply2cardsum</th>\n",
       "      <th>action</th>\n",
       "    </tr>\n",
       "  </thead>\n",
       "  <tbody>\n",
       "    <tr>\n",
       "      <th>0</th>\n",
       "      <td>10</td>\n",
       "      <td>17</td>\n",
       "      <td>Stay</td>\n",
       "    </tr>\n",
       "    <tr>\n",
       "      <th>1</th>\n",
       "      <td>10</td>\n",
       "      <td>19</td>\n",
       "      <td>Stay</td>\n",
       "    </tr>\n",
       "    <tr>\n",
       "      <th>2</th>\n",
       "      <td>10</td>\n",
       "      <td>17</td>\n",
       "      <td>Stay</td>\n",
       "    </tr>\n",
       "    <tr>\n",
       "      <th>3</th>\n",
       "      <td>10</td>\n",
       "      <td>12</td>\n",
       "      <td>Hit</td>\n",
       "    </tr>\n",
       "    <tr>\n",
       "      <th>4</th>\n",
       "      <td>10</td>\n",
       "      <td>12</td>\n",
       "      <td>Hit</td>\n",
       "    </tr>\n",
       "    <tr>\n",
       "      <th>...</th>\n",
       "      <td>...</td>\n",
       "      <td>...</td>\n",
       "      <td>...</td>\n",
       "    </tr>\n",
       "    <tr>\n",
       "      <th>899995</th>\n",
       "      <td>3</td>\n",
       "      <td>17</td>\n",
       "      <td>Stay</td>\n",
       "    </tr>\n",
       "    <tr>\n",
       "      <th>899996</th>\n",
       "      <td>3</td>\n",
       "      <td>7</td>\n",
       "      <td>Hit</td>\n",
       "    </tr>\n",
       "    <tr>\n",
       "      <th>899997</th>\n",
       "      <td>3</td>\n",
       "      <td>6</td>\n",
       "      <td>Hit</td>\n",
       "    </tr>\n",
       "    <tr>\n",
       "      <th>899998</th>\n",
       "      <td>3</td>\n",
       "      <td>19</td>\n",
       "      <td>Stay</td>\n",
       "    </tr>\n",
       "    <tr>\n",
       "      <th>899999</th>\n",
       "      <td>3</td>\n",
       "      <td>15</td>\n",
       "      <td>Stay</td>\n",
       "    </tr>\n",
       "  </tbody>\n",
       "</table>\n",
       "<p>900000 rows × 3 columns</p>\n",
       "</div>"
      ],
      "text/plain": [
       "        dealcard1  ply2cardsum action\n",
       "0              10           17   Stay\n",
       "1              10           19   Stay\n",
       "2              10           17   Stay\n",
       "3              10           12    Hit\n",
       "4              10           12    Hit\n",
       "...           ...          ...    ...\n",
       "899995          3           17   Stay\n",
       "899996          3            7    Hit\n",
       "899997          3            6    Hit\n",
       "899998          3           19   Stay\n",
       "899999          3           15   Stay\n",
       "\n",
       "[900000 rows x 3 columns]"
      ]
     },
     "execution_count": 103,
     "metadata": {},
     "output_type": "execute_result"
    }
   ],
   "source": [
    "import pandas as pd\n",
    "from sklearn.tree import DecisionTreeClassifier\n",
    "from sklearn.model_selection import train_test_split\n",
    "from sklearn.metrics import accuracy_score\n",
    "\n",
    "raw_bj_dataset = pd.read_csv('datasets/blkjckhands.csv')\n",
    "\n",
    "\n",
    "# raw_bj_dataset = raw_bj_dataset[:20]\n",
    "\n",
    "# n = 900000\n",
    "# action_row = [[] for _ in range(n)]\n",
    "action_row = []\n",
    "rows_to_del = []\n",
    "# raw_bj_dataset\n",
    "\n",
    "raw_bj_dataset['action'] = raw_bj_dataset['card1']\n",
    "\n",
    "updated = (raw_bj_dataset['ply2cardsum'] != raw_bj_dataset['sumofcards'])\n",
    "raw_bj_dataset.loc[updated, 'action'] = 'Hit'\n",
    "\n",
    "updated = (raw_bj_dataset['ply2cardsum'] == raw_bj_dataset['sumofcards'])\n",
    "raw_bj_dataset.loc[updated, 'action'] = 'Stay'\n",
    "\n",
    "df = df[df.line_race != 0]\n",
    "\n",
    "# for index in range(0, 900000):\n",
    "#     if(raw_bj_dataset.at[index,'ply2cardsum'] != raw_bj_dataset.at[index,'sumofcards']):\n",
    "#         raw_bj_dataset.at[index,'action'] = \"Hit\"\n",
    "#     else:\n",
    "#         raw_bj_dataset.at[index,'action'] = \"Stay\"\n",
    "        \n",
    "#     if(raw_bj_dataset.at[index,'winloss'] == \"Loss\"):\n",
    "#         rows_to_del.append(index)\n",
    "            \n",
    "        \n",
    "bj_dataset = bj_dataset.drop(rows_to_del)\n",
    "bj_dataset = raw_bj_dataset.drop(columns=[\"Unnamed: 0\", \"PlayerNo\", \"card1\", \"card2\", \"card3\", \"card4\", \"card5\", \"sumofcards\", \n",
    "                                   \"dealcard2\", \"dealcard3\", \"dealcard4\", \"dealcard5\",\n",
    "                                  \"sumofdeal\", \"blkjck\", \"plybustbeat\", \"dlbustbeat\", \"plwinamt\", \"dlwinamt\", \"winloss\"])\n",
    "bj_dataset"
   ]
  },
  {
   "cell_type": "code",
   "execution_count": 61,
   "id": "5aedf734",
   "metadata": {},
   "outputs": [
    {
     "data": {
      "text/plain": [
       "0.9864666666666667"
      ]
     },
     "execution_count": 61,
     "metadata": {},
     "output_type": "execute_result"
    }
   ],
   "source": [
    "X = bj_dataset.drop(columns=[\"action\"])\n",
    "y  = bj_dataset[\"action\"]\n",
    "\n",
    "X_train, X_test, y_train, y_test = train_test_split(X, y, test_size=0.2)\n",
    "model = DecisionTreeClassifier()\n",
    "\n",
    "model.fit(X_train, y_train)\n",
    "# model.fit(X, y)\n",
    "predictions = model.predict(X_test)\n",
    "score = accuracy_score(y_test, predictions)\n",
    "score"
   ]
  },
  {
   "cell_type": "code",
   "execution_count": 99,
   "id": "982b8a09",
   "metadata": {},
   "outputs": [
    {
     "name": "stdout",
     "output_type": "stream",
     "text": [
      "Input dealer card: 7\n",
      "Input your card sum: 11\n"
     ]
    },
    {
     "data": {
      "text/plain": [
       "array(['Hit'], dtype=object)"
      ]
     },
     "execution_count": 99,
     "metadata": {},
     "output_type": "execute_result"
    }
   ],
   "source": [
    "user_dealcard = input(\"Input dealer card: \")\n",
    "user_playercard = input(\"Input your card sum: \")\n",
    "y_user = pd.DataFrame({'dealcard1':[user_dealcard],\n",
    "                   'ply2cardsum': [user_playercard]})\n",
    "predictions = model.predict(y_user)\n",
    "predictions"
   ]
  }
 ],
 "metadata": {
  "kernelspec": {
   "display_name": "Python 3 (ipykernel)",
   "language": "python",
   "name": "python3"
  },
  "language_info": {
   "codemirror_mode": {
    "name": "ipython",
    "version": 3
   },
   "file_extension": ".py",
   "mimetype": "text/x-python",
   "name": "python",
   "nbconvert_exporter": "python",
   "pygments_lexer": "ipython3",
   "version": "3.9.13"
  }
 },
 "nbformat": 4,
 "nbformat_minor": 5
}
