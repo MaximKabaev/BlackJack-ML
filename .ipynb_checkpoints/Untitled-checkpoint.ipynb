{
 "cells": [
  {
   "cell_type": "code",
   "execution_count": null,
   "id": "ad5c589d",
   "metadata": {},
   "outputs": [],
   "source": [
    "import pandas as pd\n",
    "from sklearn.tree import DecisionTreeClassifier\n",
    "from sklearn.model_selection import train_test_split\n",
    "from sklearn.metrics import accuracy_score\n",
    "\n",
    "raw_bj_dataset = pd.read_csv('datasets/blkjckhands.csv')\n",
    "\n",
    "\n",
    "bj_dataset = raw_bj_dataset.drop(columns=[\"Unnamed: 0\", \"PlayerNo\", \"card1\", \"card2\", \"card3\", \"card4\", \"card5\", \"sumofcards\", \n",
    "                                   \"dealcard2\", \"dealcard3\", \"dealcard4\", \"dealcard5\",\n",
    "                                  \"sumofdeal\", \"blkjck\", \"plybustbeat\", \"dlbustbeat\", \"plwinamt\", \"dlwinamt\"])\n",
    "bj_dataset"
   ]
  },
  {
   "cell_type": "code",
   "execution_count": 4,
   "id": "5aedf734",
   "metadata": {},
   "outputs": [
    {
     "data": {
      "text/plain": [
       "0.6255277777777778"
      ]
     },
     "execution_count": 4,
     "metadata": {},
     "output_type": "execute_result"
    }
   ],
   "source": [
    "X = bj_dataset.drop(columns=[\"winloss\"])\n",
    "y  = bj_dataset[\"winloss\"]\n",
    "\n",
    "X_train, X_test, y_train, y_test = train_test_split(X, y, test_size=0.2)\n",
    "model = DecisionTreeClassifier()\n",
    "\n",
    "# model.fit(X_train, y_train)\n",
    "model.fit(X, y)\n",
    "predictions = model.predict(X_test)\n",
    "score = accuracy_score(y_test, predictions)\n",
    "score"
   ]
  },
  {
   "cell_type": "code",
   "execution_count": 5,
   "id": "982b8a09",
   "metadata": {},
   "outputs": [
    {
     "name": "stdout",
     "output_type": "stream",
     "text": [
      "Input dealer card: 5\n",
      "Input your card sum: 20\n"
     ]
    },
    {
     "data": {
      "text/plain": [
       "array(['Win'], dtype=object)"
      ]
     },
     "execution_count": 5,
     "metadata": {},
     "output_type": "execute_result"
    }
   ],
   "source": [
    "user_dealcard = int(input(\"Input dealer card: \"))\n",
    "user_playercard = int(input(\"Input your card sum: \"))\n",
    "y_user = pd.DataFrame({'dealcard1':[\"6402106844\"],\n",
    "                   'ply2cardsum': [\"66903717\"]})\n",
    "predictions = model.predict(y_user)\n",
    "predictions"
   ]
  }
 ],
 "metadata": {
  "kernelspec": {
   "display_name": "Python 3 (ipykernel)",
   "language": "python",
   "name": "python3"
  },
  "language_info": {
   "codemirror_mode": {
    "name": "ipython",
    "version": 3
   },
   "file_extension": ".py",
   "mimetype": "text/x-python",
   "name": "python",
   "nbconvert_exporter": "python",
   "pygments_lexer": "ipython3",
   "version": "3.9.13"
  }
 },
 "nbformat": 4,
 "nbformat_minor": 5
}
